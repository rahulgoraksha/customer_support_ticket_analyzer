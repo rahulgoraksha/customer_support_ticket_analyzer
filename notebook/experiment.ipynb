{
 "cells": [
  {
   "cell_type": "code",
   "execution_count": 8,
   "id": "4be615ef",
   "metadata": {},
   "outputs": [],
   "source": [
    "import pandas as pd\n",
    "import nltk\n",
    "from nltk.corpus import stopwords"
   ]
  },
  {
   "cell_type": "code",
   "execution_count": 6,
   "id": "8652c242",
   "metadata": {},
   "outputs": [
    {
     "data": {
      "text/html": [
       "<div>\n",
       "<style scoped>\n",
       "    .dataframe tbody tr th:only-of-type {\n",
       "        vertical-align: middle;\n",
       "    }\n",
       "\n",
       "    .dataframe tbody tr th {\n",
       "        vertical-align: top;\n",
       "    }\n",
       "\n",
       "    .dataframe thead th {\n",
       "        text-align: right;\n",
       "    }\n",
       "</style>\n",
       "<table border=\"1\" class=\"dataframe\">\n",
       "  <thead>\n",
       "    <tr style=\"text-align: right;\">\n",
       "      <th></th>\n",
       "      <th>message_id</th>\n",
       "      <th>user_name</th>\n",
       "      <th>location</th>\n",
       "      <th>email_subject</th>\n",
       "      <th>message_body</th>\n",
       "      <th>created_at</th>\n",
       "      <th>true_category</th>\n",
       "    </tr>\n",
       "  </thead>\n",
       "  <tbody>\n",
       "    <tr>\n",
       "      <th>0</th>\n",
       "      <td>M0001</td>\n",
       "      <td>Ryan Obrien</td>\n",
       "      <td>North Billy</td>\n",
       "      <td>Law from traditional now Mrs.</td>\n",
       "      <td>Reflect available century join outside. i cant...</td>\n",
       "      <td>2025-09-01 06:10:59</td>\n",
       "      <td>Feature Request</td>\n",
       "    </tr>\n",
       "    <tr>\n",
       "      <th>1</th>\n",
       "      <td>M0002</td>\n",
       "      <td>Jamie Salazar</td>\n",
       "      <td>South Kari</td>\n",
       "      <td>Require billion probably cut raise include now.</td>\n",
       "      <td>Try cause behind single project. Sport sound c...</td>\n",
       "      <td>2025-06-16 04:58:19</td>\n",
       "      <td>Other</td>\n",
       "    </tr>\n",
       "    <tr>\n",
       "      <th>2</th>\n",
       "      <td>M0003</td>\n",
       "      <td>Clinton Wallace</td>\n",
       "      <td>Port Paige</td>\n",
       "      <td>South maintain year firm.</td>\n",
       "      <td>While travel major strong pull. Us history lig...</td>\n",
       "      <td>2025-08-17 14:54:02</td>\n",
       "      <td>Feature Request</td>\n",
       "    </tr>\n",
       "    <tr>\n",
       "      <th>3</th>\n",
       "      <td>M0004</td>\n",
       "      <td>Christopher Olsen</td>\n",
       "      <td>Jeanville</td>\n",
       "      <td>Fill personal fire.</td>\n",
       "      <td>Can nothing force move free body stand approac...</td>\n",
       "      <td>2025-10-15 06:27:28</td>\n",
       "      <td>Praise</td>\n",
       "    </tr>\n",
       "    <tr>\n",
       "      <th>4</th>\n",
       "      <td>M0005</td>\n",
       "      <td>Alex Alexander</td>\n",
       "      <td>West Gail</td>\n",
       "      <td>Term authority offer feeling than.</td>\n",
       "      <td>Control skin fall. Left worker ready take prop...</td>\n",
       "      <td>2025-05-14 22:35:51</td>\n",
       "      <td>Praise</td>\n",
       "    </tr>\n",
       "  </tbody>\n",
       "</table>\n",
       "</div>"
      ],
      "text/plain": [
       "  message_id          user_name     location  \\\n",
       "0      M0001        Ryan Obrien  North Billy   \n",
       "1      M0002      Jamie Salazar   South Kari   \n",
       "2      M0003    Clinton Wallace   Port Paige   \n",
       "3      M0004  Christopher Olsen    Jeanville   \n",
       "4      M0005     Alex Alexander    West Gail   \n",
       "\n",
       "                                     email_subject  \\\n",
       "0                    Law from traditional now Mrs.   \n",
       "1  Require billion probably cut raise include now.   \n",
       "2                        South maintain year firm.   \n",
       "3                              Fill personal fire.   \n",
       "4               Term authority offer feeling than.   \n",
       "\n",
       "                                        message_body           created_at  \\\n",
       "0  Reflect available century join outside. i cant...  2025-09-01 06:10:59   \n",
       "1  Try cause behind single project. Sport sound c...  2025-06-16 04:58:19   \n",
       "2  While travel major strong pull. Us history lig...  2025-08-17 14:54:02   \n",
       "3  Can nothing force move free body stand approac...  2025-10-15 06:27:28   \n",
       "4  Control skin fall. Left worker ready take prop...  2025-05-14 22:35:51   \n",
       "\n",
       "     true_category  \n",
       "0  Feature Request  \n",
       "1            Other  \n",
       "2  Feature Request  \n",
       "3           Praise  \n",
       "4           Praise  "
      ]
     },
     "execution_count": 6,
     "metadata": {},
     "output_type": "execute_result"
    }
   ],
   "source": [
    "df = pd.read_csv(\"C:\\\\Users\\\\admin\\\\OneDrive - BOMBAY COATED AND SPECIAL STEELS PRIVATE LIMITED\\\\Desktop\\\\customer_support_ticket_analyzer\\\\data\\\\customer_support_tickets_1.csv\")\n",
    "df.head()"
   ]
  },
  {
   "cell_type": "markdown",
   "id": "0de96a70",
   "metadata": {},
   "source": [
    "Load and inspect the dataset (CSV format). Identify\tmissing\tvalues,\tduplicates, and\tcolumn types.\t"
   ]
  },
  {
   "cell_type": "code",
   "execution_count": null,
   "id": "79ef741e",
   "metadata": {},
   "outputs": [
    {
     "data": {
      "text/plain": [
       "message_id       0\n",
       "user_name        0\n",
       "location         0\n",
       "email_subject    0\n",
       "message_body     0\n",
       "created_at       0\n",
       "true_category    0\n",
       "dtype: int64"
      ]
     },
     "execution_count": 14,
     "metadata": {},
     "output_type": "execute_result"
    }
   ],
   "source": [
    "df.isna().sum() # Check for missing values"
   ]
  },
  {
   "cell_type": "code",
   "execution_count": 17,
   "id": "4775acd0",
   "metadata": {},
   "outputs": [
    {
     "data": {
      "text/plain": [
       "message_id       1\n",
       "user_name        1\n",
       "location         1\n",
       "email_subject    1\n",
       "message_body     1\n",
       "created_at       1\n",
       "true_category    1\n",
       "Name: count, dtype: int64"
      ]
     },
     "execution_count": 17,
     "metadata": {},
     "output_type": "execute_result"
    }
   ],
   "source": [
    "df.columns.value_counts() # Check for duplicate columns"
   ]
  },
  {
   "cell_type": "code",
   "execution_count": 20,
   "id": "b3bbc3e6",
   "metadata": {},
   "outputs": [
    {
     "data": {
      "text/plain": [
       "pandas.core.indexes.base.Index"
      ]
     },
     "execution_count": 20,
     "metadata": {},
     "output_type": "execute_result"
    }
   ],
   "source": [
    "type(df.columns) # Check column types"
   ]
  },
  {
   "cell_type": "code",
   "execution_count": null,
   "id": "633fcc7b",
   "metadata": {},
   "outputs": [],
   "source": []
  }
 ],
 "metadata": {
  "kernelspec": {
   "display_name": "Python 3",
   "language": "python",
   "name": "python3"
  },
  "language_info": {
   "codemirror_mode": {
    "name": "ipython",
    "version": 3
   },
   "file_extension": ".py",
   "mimetype": "text/x-python",
   "name": "python",
   "nbconvert_exporter": "python",
   "pygments_lexer": "ipython3",
   "version": "3.13.8"
  }
 },
 "nbformat": 4,
 "nbformat_minor": 5
}
